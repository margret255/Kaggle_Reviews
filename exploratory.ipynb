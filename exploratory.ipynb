{
 "cells": [
  {
   "cell_type": "code",
   "execution_count": null,
   "id": "bb21b006-3993-446d-be4f-c33bdbf8353e",
   "metadata": {},
   "outputs": [],
   "source": [
    "import numpy as np\n",
    "import pandas as pd\n",
    "import seaborn as sns\n",
    "import matplotlib.pyplot  as plt\n",
    "import datetime\n",
    "import pickle\n",
    "import os\n",
    "%matplotlib inline\n",
    "pd.set_option('display.max_columns',100)"
   ]
  },
  {
   "cell_type": "code",
   "execution_count": null,
   "id": "a2fc3342-c669-461d-9fc3-a14991461ffe",
   "metadata": {},
   "outputs": [],
   "source": [
    "training=pd.read_csv()\n",
    "history=pd.read_csv()\n",
    "churn=pd.read_csv()"
   ]
  },
  {
   "cell_type": "code",
   "execution_count": null,
   "id": "f63e1121-9a57-4212-ac23-ef3b1638ff0c",
   "metadata": {},
   "outputs": [],
   "source": [
    "churn.head(10)"
   ]
  },
  {
   "cell_type": "raw",
   "id": "2a52a50a-be94-4cd3-b814-736c44a04457",
   "metadata": {},
   "source": []
  },
  {
   "cell_type": "code",
   "execution_count": null,
   "id": "f76f75c5-330b-4ec7-810f-1ff244cd00cc",
   "metadata": {},
   "outputs": [],
   "source": [
    "training.head(10)"
   ]
  },
  {
   "cell_type": "code",
   "execution_count": null,
   "id": "0966c928-8559-4b28-9d83-88384f426a55",
   "metadata": {},
   "outputs": [],
   "source": [
    "history.head()"
   ]
  },
  {
   "cell_type": "code",
   "execution_count": null,
   "id": "f6440151-80b9-41bb-b38c-3e99173775c8",
   "metadata": {},
   "outputs": [],
   "source": [
    "train_data=pd.merge(training,churn,on='id')\n",
    "pd.DataFrame({'Data type':train_data.dtypes})"
   ]
  },
  {
   "cell_type": "code",
   "execution_count": null,
   "id": "17058972-a864-4f37-b317-d5c065be9557",
   "metadata": {},
   "outputs": [],
   "source": [
    "pd.DatFrame({'Data type':history.dtypes})"
   ]
  },
  {
   "cell_type": "code",
   "execution_count": null,
   "id": "e0159ce6-a831-4059-b766-84a2ea1d8ec8",
   "metadata": {},
   "outputs": [],
   "source": [
    "train_data.describe()"
   ]
  }
 ],
 "metadata": {
  "kernelspec": {
   "display_name": "Python 3 (ipykernel)",
   "language": "python",
   "name": "python3"
  },
  "language_info": {
   "codemirror_mode": {
    "name": "ipython",
    "version": 3
   },
   "file_extension": ".py",
   "mimetype": "text/x-python",
   "name": "python",
   "nbconvert_exporter": "python",
   "pygments_lexer": "ipython3",
   "version": "3.13.2"
  }
 },
 "nbformat": 4,
 "nbformat_minor": 5
}
